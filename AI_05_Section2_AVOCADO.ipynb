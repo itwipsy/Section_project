{
  "nbformat": 4,
  "nbformat_minor": 0,
  "metadata": {
    "colab": {
      "name": "AI_05_Section2_AVOCADO",
      "private_outputs": true,
      "provenance": [],
      "collapsed_sections": [],
      "authorship_tag": "ABX9TyMXEdCkjJYV6QBjbShUpFva",
      "include_colab_link": true
    },
    "kernelspec": {
      "name": "python3",
      "display_name": "Python 3"
    },
    "language_info": {
      "name": "python"
    }
  },
  "cells": [
    {
      "cell_type": "markdown",
      "metadata": {
        "id": "view-in-github",
        "colab_type": "text"
      },
      "source": [
        "<a href=\"https://colab.research.google.com/github/itwipsy/Section_project/blob/main/AI_05_Section2_AVOCADO.ipynb\" target=\"_parent\"><img src=\"https://colab.research.google.com/assets/colab-badge.svg\" alt=\"Open In Colab\"/></a>"
      ]
    },
    {
      "cell_type": "code",
      "metadata": {
        "id": "AmeRdBb143ZU"
      },
      "source": [
        "import io\n",
        "import pandas as pd\n",
        "import pandas_profiling\n",
        "from pandas_profiling import ProfileReport\n",
        "import matplotlib.pyplot as plt\n",
        "import seaborn as sns\n",
        "import numpy as np\n",
        "from sklearn import metrics"
      ],
      "execution_count": null,
      "outputs": []
    },
    {
      "cell_type": "code",
      "metadata": {
        "id": "rWMBk02vh4NL"
      },
      "source": [
        "from sklearn.model_selection import train_test_split"
      ],
      "execution_count": null,
      "outputs": []
    },
    {
      "cell_type": "code",
      "metadata": {
        "id": "J1Edc6_ocfbn"
      },
      "source": [
        "!pip install category_encoders"
      ],
      "execution_count": null,
      "outputs": []
    },
    {
      "cell_type": "code",
      "metadata": {
        "id": "MmM5xWo05Gr5"
      },
      "source": [
        "from google.colab import files\n",
        "\n",
        "uploaded = files.upload()\n",
        "\n",
        "for fn in uploaded.keys():\n",
        "  print('User uploaded file \"{name}\" with length {length} bytes'.format(\n",
        "      name=fn, length=len(uploaded[fn])))"
      ],
      "execution_count": null,
      "outputs": []
    },
    {
      "cell_type": "code",
      "metadata": {
        "id": "Roaea7Fb-RCV"
      },
      "source": [
        "data = pd.read_csv('avocado.csv')"
      ],
      "execution_count": null,
      "outputs": []
    },
    {
      "cell_type": "code",
      "metadata": {
        "id": "EmFdmDZ2J9Gy"
      },
      "source": [
        "data.head()"
      ],
      "execution_count": null,
      "outputs": []
    },
    {
      "cell_type": "code",
      "metadata": {
        "id": "qGbUuLeXBI8-"
      },
      "source": [
        "data[\"date\"] = pd.to_datetime(data[\"Date\"])"
      ],
      "execution_count": null,
      "outputs": []
    },
    {
      "cell_type": "code",
      "metadata": {
        "id": "Y-pxvLJDDpn1"
      },
      "source": [
        "data.drop(['Unnamed: 0','XLarge Bags','year','Date'],axis=1,inplace=True)"
      ],
      "execution_count": null,
      "outputs": []
    },
    {
      "cell_type": "code",
      "metadata": {
        "id": "KhlERpgydhkk"
      },
      "source": [
        "data.isnull().sum()"
      ],
      "execution_count": null,
      "outputs": []
    },
    {
      "cell_type": "code",
      "metadata": {
        "id": "opGm5iMcOddF"
      },
      "source": [
        "data.head()"
      ],
      "execution_count": null,
      "outputs": []
    },
    {
      "cell_type": "code",
      "metadata": {
        "id": "SM-h5AU3ZIEX"
      },
      "source": [
        "df_target=data['AveragePrice']\n",
        "df_features=data.drop(['AveragePrice'],axis=1)\n",
        "train, test= train_test_split(data, test_size=0.2, random_state=2)"
      ],
      "execution_count": null,
      "outputs": []
    },
    {
      "cell_type": "code",
      "metadata": {
        "id": "IJ5ftHECd0JK"
      },
      "source": [
        "# 데이터셋 분리 - train 80%, test 20%\n",
        "\n",
        "X_train, X_test, y_train, y_test = train_test_split(df_features, df_target, test_size=0.2, random_state=2)"
      ],
      "execution_count": null,
      "outputs": []
    },
    {
      "cell_type": "code",
      "metadata": {
        "id": "OYrd4FpokFEr"
      },
      "source": [
        "data.groupby([\"type\"])['AveragePrice'].agg([np.sum, np.mean, np.std])"
      ],
      "execution_count": null,
      "outputs": []
    },
    {
      "cell_type": "markdown",
      "metadata": {
        "id": "0y89FUwpJSQf"
      },
      "source": [
        "#ORGANIC 재배법으로 자란 아보카도가 CONVENTIONAL 재배법으로 키운 아보카도보다 평균적으로 비싼것을 볼수있다."
      ]
    },
    {
      "cell_type": "code",
      "metadata": {
        "id": "8TkbhIwzJMrf"
      },
      "source": [
        "import plotly.express as px\n",
        "fig = px.histogram(data, x='AveragePrice', color='type',\n",
        "                   marginal='box',\n",
        "                   hover_data=data.columns)\n",
        "fig.show()"
      ],
      "execution_count": null,
      "outputs": []
    },
    {
      "cell_type": "code",
      "metadata": {
        "id": "hyr5S6R6tZRi"
      },
      "source": [
        "# Turning object to int\n",
        "for label, content in data.items():\n",
        "    if pd.api.types.is_string_dtype(content):\n",
        "        data[label]  = pd.Categorical(content).codes+1"
      ],
      "execution_count": null,
      "outputs": []
    },
    {
      "cell_type": "code",
      "metadata": {
        "id": "F2n1bVwQrnyA"
      },
      "source": [
        "plt.figure(figsize=(20,20))\n",
        "sns.heatmap(data.corr(),\n",
        "           annot=True,\n",
        "           cmap='YlGnBu')\n",
        "plt.title('Correlation ', fontsize=20)"
      ],
      "execution_count": null,
      "outputs": []
    },
    {
      "cell_type": "markdown",
      "metadata": {
        "id": "fx3kX6w9u66v"
      },
      "source": [
        "#아보카드의 평균가격과 가장 상관관간계가 가장 높은것(0.62)은 type으로 나왔다. 즉 재배방식이 가격에 영향을 많이 준다는것을 알게 돼었다."
      ]
    },
    {
      "cell_type": "code",
      "metadata": {
        "id": "mdyu6C31Ecwr"
      },
      "source": [
        "df_target=data['AveragePrice']\n",
        "df_features=data.drop(['AveragePrice'],axis=1)\n",
        "\n",
        "X_train, X_test, y_train, y_test = train_test_split(df_features, df_target, test_size=0.2, random_state=2)"
      ],
      "execution_count": null,
      "outputs": []
    },
    {
      "cell_type": "code",
      "metadata": {
        "id": "vnETXAyOAgHl"
      },
      "source": [
        "# OneHotEncoder\n",
        "from category_encoders import OneHotEncoder\n",
        "\n",
        "# categorical -> onehot encoding\n",
        "encoder = OneHotEncoder(use_cat_names = True)\n",
        "X_train = encoder.fit_transform(X_train)\n",
        "X_test = encoder.transform(X_test)"
      ],
      "execution_count": null,
      "outputs": []
    },
    {
      "cell_type": "code",
      "metadata": {
        "id": "f8r-Cv1OJ5zW"
      },
      "source": [
        "X_train.drop(['date'],axis=1,inplace=True)"
      ],
      "execution_count": null,
      "outputs": []
    },
    {
      "cell_type": "code",
      "metadata": {
        "id": "5QD-G4veKGbe"
      },
      "source": [
        "X_test.drop(['date'],axis=1,inplace=True)"
      ],
      "execution_count": null,
      "outputs": []
    },
    {
      "cell_type": "code",
      "metadata": {
        "id": "i1pbEzy9eE9n"
      },
      "source": [
        "from sklearn.ensemble import RandomForestRegressor\n",
        "model = RandomForestRegressor()\n",
        "model.fit(X_train, y_train)\n",
        "y_pred = model.predict(X_test)\n",
        "y_pred"
      ],
      "execution_count": null,
      "outputs": []
    },
    {
      "cell_type": "code",
      "metadata": {
        "id": "XEVV7E8jjm4g"
      },
      "source": [
        "score_r2 = metrics.r2_score(y_test, y_pred)\n",
        "score_r2"
      ],
      "execution_count": null,
      "outputs": []
    },
    {
      "cell_type": "markdown",
      "metadata": {
        "id": "n-WOj_nQOQGk"
      },
      "source": [
        "#R2값이 괜찮게 나왔다. "
      ]
    },
    {
      "cell_type": "markdown",
      "metadata": {
        "id": "N0qNDQReMHq5"
      },
      "source": [
        ""
      ]
    },
    {
      "cell_type": "markdown",
      "metadata": {
        "id": "MfA1ZxjTP2qV"
      },
      "source": [
        "#작물은 계절에 영향이 있으니 월만 따로 때내어 붙여보았다."
      ]
    },
    {
      "cell_type": "code",
      "metadata": {
        "id": "7TUNcthGOjAe"
      },
      "source": [
        "data[\"month\"] = pd.DatetimeIndex(data[\"date\"]).month\n",
        "df_ = data.drop(columns=[\"date\"])"
      ],
      "execution_count": null,
      "outputs": []
    },
    {
      "cell_type": "code",
      "metadata": {
        "id": "NnezbviGKVTy"
      },
      "source": [
        "df_target_=df_['AveragePrice']\n",
        "df_features_=df_.drop(['AveragePrice'],axis=1)\n",
        "\n",
        "X_train_, X_test_, y_train_, y_test_ = train_test_split(df_features_, df_target_, test_size=0.2, random_state=2)"
      ],
      "execution_count": null,
      "outputs": []
    },
    {
      "cell_type": "code",
      "metadata": {
        "id": "kqf_NvlSPwp2"
      },
      "source": [
        "# OneHotEncoder\n",
        "from category_encoders import OneHotEncoder\n",
        "\n",
        "# categorical -> onehot encoding\n",
        "encoder = OneHotEncoder(use_cat_names = True)\n",
        "X_train_ = encoder.fit_transform(X_train_)\n",
        "X_test_ = encoder.transform(X_test_)"
      ],
      "execution_count": null,
      "outputs": []
    },
    {
      "cell_type": "code",
      "metadata": {
        "id": "e1rHUkS4QbTY"
      },
      "source": [
        "from sklearn.ensemble import RandomForestRegressor\n",
        "model = RandomForestRegressor()\n",
        "model.fit(X_train_, y_train_)\n",
        "y_pred_ = model.predict(X_test_)\n",
        "y_pred_"
      ],
      "execution_count": null,
      "outputs": []
    },
    {
      "cell_type": "code",
      "metadata": {
        "id": "3yT0hdDwQncm"
      },
      "source": [
        "score_r2_ = metrics.r2_score(y_test_, y_pred_)\n",
        "score_r2_"
      ],
      "execution_count": null,
      "outputs": []
    },
    {
      "cell_type": "markdown",
      "metadata": {
        "id": "vuxkQWs1Qv0z"
      },
      "source": [
        "#계절의 영향을 보여줄수 있는 월값을 넣어 줬더니 R2값이 상승 하였다!"
      ]
    },
    {
      "cell_type": "markdown",
      "metadata": {
        "id": "K7ngYoaioGNC"
      },
      "source": [
        "#계절의  영향을 보여주는 월값을 추가했을때 정확도가 올라간것을 보았을때 날짜를 디테일하게 나줘 추가하면 어떨지 궁금하다."
      ]
    },
    {
      "cell_type": "code",
      "metadata": {
        "id": "9cm-ZA90ElD1"
      },
      "source": [
        "df=data"
      ],
      "execution_count": null,
      "outputs": []
    },
    {
      "cell_type": "markdown",
      "metadata": {
        "id": "cAeIsRoKE9qO"
      },
      "source": [
        "#원본 데이터는 유지하고 수정용 df를 만들어준다."
      ]
    },
    {
      "cell_type": "code",
      "metadata": {
        "id": "soPwO6sMQuds"
      },
      "source": [
        "df[\"year\"] = pd.DatetimeIndex(df[\"date\"]).year"
      ],
      "execution_count": null,
      "outputs": []
    },
    {
      "cell_type": "code",
      "metadata": {
        "id": "DV3u-lV9rfYQ"
      },
      "source": [
        "df[\"day\"] = pd.DatetimeIndex(df[\"date\"]).day"
      ],
      "execution_count": null,
      "outputs": []
    },
    {
      "cell_type": "code",
      "metadata": {
        "id": "Jr_zOLtevdTo"
      },
      "source": [
        "df.drop(['date'],axis=1,inplace=True)"
      ],
      "execution_count": null,
      "outputs": []
    },
    {
      "cell_type": "code",
      "metadata": {
        "id": "_Gp3IUhswldL"
      },
      "source": [
        "df__target=df['AveragePrice']\n",
        "df__features=df.drop(['AveragePrice'],axis=1)\n",
        "\n",
        "X__train, X__test, y__train, y__test = train_test_split(df__features, df__target, test_size=0.2, random_state=2)"
      ],
      "execution_count": null,
      "outputs": []
    },
    {
      "cell_type": "code",
      "metadata": {
        "id": "s294vFI53DyA"
      },
      "source": [
        "# OneHotEncoder\n",
        "from category_encoders import OneHotEncoder\n",
        "\n",
        "# categorical -> onehot encoding\n",
        "encoder = OneHotEncoder(use_cat_names = True)\n",
        "X__train = encoder.fit_transform(X__train)\n",
        "X__test = encoder.transform(X__test)"
      ],
      "execution_count": null,
      "outputs": []
    },
    {
      "cell_type": "code",
      "metadata": {
        "id": "aOk632Zb3I35"
      },
      "source": [
        "from sklearn.ensemble import RandomForestRegressor\n",
        "model = RandomForestRegressor()\n",
        "model.fit(X__train, y__train)\n",
        "y__pred = model.predict(X__test)\n",
        "y__pred"
      ],
      "execution_count": null,
      "outputs": []
    },
    {
      "cell_type": "code",
      "metadata": {
        "id": "HRH5N0T33LN6"
      },
      "source": [
        "score_r2 = metrics.r2_score(y__test, y__pred)\n",
        "score_r2"
      ],
      "execution_count": null,
      "outputs": []
    },
    {
      "cell_type": "markdown",
      "metadata": {
        "id": "Eg8ueBpZ35xy"
      },
      "source": [
        "#식물 작물에 영향을 주는 시간요소를 더욱 디테일 하게 넣어주니 R2값이 더 높아진것을 확인할수있다."
      ]
    },
    {
      "cell_type": "code",
      "metadata": {
        "id": "zwAQxKc3gPJd"
      },
      "source": [
        "# data[\"year\"] = pd.DatetimeIndex(data[\"date\"]).year\n",
        "# data[\"month\"] = pd.DatetimeIndex(data[\"date\"]).month\n",
        "# data[\"day\"] = pd.DatetimeIndex(data[\"date\"]).day"
      ],
      "execution_count": null,
      "outputs": []
    },
    {
      "cell_type": "code",
      "metadata": {
        "id": "kEaqq-Q5faSH"
      },
      "source": [
        "dummies = pd.get_dummies(data[['year','region','month','day','type']],drop_first=True)\n",
        "df_dummies = pd.concat([data[['Total Volume', '4046', '4225', '4770', 'Total Bags',\n",
        "       'Small Bags', 'Large Bags']],dummies],axis=1)\n",
        "target = data['AveragePrice']\n",
        "\n",
        "# Splitting data into training and test set\n",
        "from sklearn.model_selection import train_test_split\n",
        "X_train, X_test, y_train, y_test = train_test_split(df_dummies,target,test_size=0.20)"
      ],
      "execution_count": null,
      "outputs": []
    },
    {
      "cell_type": "code",
      "metadata": {
        "id": "5KtOWSZqhghZ"
      },
      "source": [
        "cols_to_std = ['Total Volume', '4046', '4225', '4770', 'Total Bags', 'Small Bags','Large Bags']\n",
        "from sklearn.preprocessing import StandardScaler\n",
        "scaler=StandardScaler()\n",
        "scaler.fit(X_train[cols_to_std])\n",
        "X_train[cols_to_std] = scaler.transform(X_train[cols_to_std])\n",
        "X_test[cols_to_std] = scaler.transform(X_test[cols_to_std])"
      ],
      "execution_count": null,
      "outputs": []
    },
    {
      "cell_type": "code",
      "metadata": {
        "id": "jIcnXUF9h7Hh"
      },
      "source": [
        "df_dummies.dtypes"
      ],
      "execution_count": null,
      "outputs": []
    },
    {
      "cell_type": "code",
      "metadata": {
        "id": "v18jkL1hz2SV"
      },
      "source": [
        "from xgboost import XGBRegressor\n",
        "from sklearn.metrics import mean_absolute_error,mean_squared_error,r2_score\n",
        "model = XGBRegressor()\n",
        "model.fit(X__train, y__train)\n",
        "Y__pred = model.predict(X__test)\n",
        "score = model.score(X__train, y__train)\n",
        "print('Training Score:', score)\n",
        "score = model.score(X__test, y__test)\n",
        "print('Testing Score:', score)\n",
        "output = pd.DataFrame({'Predicted':Y__pred})"
      ],
      "execution_count": null,
      "outputs": []
    },
    {
      "cell_type": "code",
      "metadata": {
        "id": "koebw6R4NDzG"
      },
      "source": [
        "from xgboost import XGBRegressor\n",
        "from sklearn.metrics import mean_absolute_error,mean_squared_error,r2_score\n",
        "model = XGBRegressor()\n",
        "model.fit(X_train, y_train)\n",
        "Y_pred = model.predict(X_test)\n",
        "score = model.score(X_train, y_train)\n",
        "print('Training Score:', score)\n",
        "score = model.score(X_test, y_test)\n",
        "print('Testing Score:', score)\n",
        "output = pd.DataFrame({'Predicted':Y_pred})"
      ],
      "execution_count": null,
      "outputs": []
    },
    {
      "cell_type": "code",
      "metadata": {
        "id": "LzqJ0bpp5Lot"
      },
      "source": [
        "from sklearn.model_selection import cross_val_score\n",
        "scores=cross_val_score(model,X_train, y_train)\n",
        "print(\"cross validation scores:{}\".format(scores))\n",
        "scores_K5=cross_val_score(model,X_train, y_train,cv=5)\n",
        "print(\"cross validation scores:{}\".format(scores_K5))\n",
        "print(\"cross validation scores:{:.2f}\".format(scores_K5.mean()))"
      ],
      "execution_count": null,
      "outputs": []
    },
    {
      "cell_type": "markdown",
      "metadata": {
        "id": "O1BcaV_-HKHr"
      },
      "source": [
        "#시간요소중 월만 추가한것과 일,월,년을 전부 추가한것이나 XGB의 값이 비슷하다. XGB의 성능이 별로 인것 같다."
      ]
    },
    {
      "cell_type": "markdown",
      "metadata": {
        "id": "y8MT419-85qK"
      },
      "source": [
        "#랜덤포레스트리그세서"
      ]
    },
    {
      "cell_type": "code",
      "metadata": {
        "id": "4TTTf_Fv6XRR"
      },
      "source": [
        "from xgboost import XGBRegressor\n",
        "from sklearn.metrics import mean_absolute_error,mean_squared_error,r2_score\n",
        "model_ = RandomForestRegressor(max_depth=20, random_state=2)\n",
        "model_.fit(X__train, y__train)\n",
        "Y__pred = model_.predict(X__test)\n",
        "score = model_.score(X__train, y__train)\n",
        "print('Training Score:', score)\n",
        "score_ = model_.score(X__test, y__test)\n",
        "print('Testing Score:', score_)\n",
        "output_ = pd.DataFrame({'Predicted':Y__pred})"
      ],
      "execution_count": null,
      "outputs": []
    },
    {
      "cell_type": "code",
      "metadata": {
        "id": "0vKQYLYmCr2Q"
      },
      "source": [
        "scores=cross_val_score(model_,X__train, y__train)\n",
        "print(\"cross validation scores:{}\".format(scores))\n",
        "scores_K5=cross_val_score(model_,X__train, y__train,cv=5)\n",
        "print(\"cross validation scores:{}\".format(scores_K5))\n",
        "print(\"cross validation scores:{:.2f}\".format(scores_K5.mean()))"
      ],
      "execution_count": null,
      "outputs": []
    },
    {
      "cell_type": "code",
      "metadata": {
        "id": "ARoGpCwaDYUk"
      },
      "source": [
        "from sklearn.tree import DecisionTreeRegressor\n",
        "\n",
        "decision_tree_model = DecisionTreeRegressor() # 의사결정나무 모형\n",
        "tree_model1 = decision_tree_model.fit(X__train, y__train) # 학습 데이터를 의사결정나무 모형에 적합\n",
        "Y__pred = tree_model1.predict(X__test)\n",
        "score = model_.score(X__train, y__train)\n",
        "print('Training Score:', score)\n",
        "score_ = model_.score(X__test, y__test)\n",
        "print('Testing Score:', score_)"
      ],
      "execution_count": null,
      "outputs": []
    },
    {
      "cell_type": "code",
      "metadata": {
        "id": "rzlgnK1VEM2e"
      },
      "source": [
        "import warnings\n",
        "warnings.filterwarnings(action='ignore', category=FutureWarning, module='xgboost')"
      ],
      "execution_count": null,
      "outputs": []
    },
    {
      "cell_type": "code",
      "metadata": {
        "id": "ET0uDv2KKvgX"
      },
      "source": [
        "!pip install shapely"
      ],
      "execution_count": null,
      "outputs": []
    },
    {
      "cell_type": "code",
      "metadata": {
        "id": "y2qJADkrEOnP"
      },
      "source": [
        "sns.displot(y_train, kde=True);"
      ],
      "execution_count": null,
      "outputs": []
    },
    {
      "cell_type": "code",
      "metadata": {
        "id": "cknH6p0hdrIR"
      },
      "source": [
        "X__test"
      ],
      "execution_count": null,
      "outputs": []
    },
    {
      "cell_type": "code",
      "metadata": {
        "id": "EtXBON6qeT9h"
      },
      "source": [
        "!pip install pdpbox"
      ],
      "execution_count": null,
      "outputs": []
    },
    {
      "cell_type": "code",
      "metadata": {
        "id": "Nj2KjZMKem3H"
      },
      "source": [
        "from pdpbox.pdp import pdp_isolate, pdp_plot"
      ],
      "execution_count": null,
      "outputs": []
    },
    {
      "cell_type": "code",
      "metadata": {
        "id": "U8NCpPnerepw"
      },
      "source": [
        "data.columns"
      ],
      "execution_count": null,
      "outputs": []
    },
    {
      "cell_type": "code",
      "metadata": {
        "id": "IFaBG7mrgNUm"
      },
      "source": [
        "features = ['Total Volume', '4046', '4225', '4770', 'Total Bags', 'Small Bags', 'Large Bags', 'year', 'region', 'month', 'day', 'type']\n",
        "for i in features:\n",
        "    isolated = pdp_isolate(model = model,\n",
        "                                  dataset = X_train,\n",
        "                                  model_features = X_train.columns,\n",
        "                                  feature = i,\n",
        "                                  grid_type = 'percentile',\n",
        "                                  num_grid_points = 10)\n",
        "\n",
        "    pdp_plot(isolated, feature_name = i);"
      ],
      "execution_count": null,
      "outputs": []
    },
    {
      "cell_type": "code",
      "metadata": {
        "id": "Wa0-YcFqeBMv"
      },
      "source": [
        ""
      ],
      "execution_count": null,
      "outputs": []
    }
  ]
}